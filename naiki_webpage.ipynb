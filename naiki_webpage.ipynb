{
 "cells": [
  {
   "cell_type": "code",
   "execution_count": null,
   "id": "6f7498ce",
   "metadata": {},
   "outputs": [],
   "source": [
    "import Pkg; Pkg.add(\"Luxor\")"
   ]
  },
  {
   "cell_type": "code",
   "execution_count": null,
   "id": "27f64396",
   "metadata": {},
   "outputs": [],
   "source": [
    "using Luxor"
   ]
  },
  {
   "cell_type": "markdown",
   "id": "dea3a58c",
   "metadata": {},
   "source": [
    "A function to draw one crossing, given a starting point, two direction vectors, two colors, and whether it's an S or Z type:"
   ]
  },
  {
   "cell_type": "code",
   "execution_count": null,
   "id": "07467b22",
   "metadata": {},
   "outputs": [],
   "source": [
    "function crossing(start, vector0, vector1, (color0, color1, sz))\n",
    "    if (sz == \"Z\")\n",
    "        setcolor(\"black\")\n",
    "        poly([start+vector0*(.15, .15), start+vector0*(.85, .85), start+vector0*(.85, .85)+vector1, \n",
    "                start+vector0*(.15, .15)+vector1], \n",
    "            close=true,  :fill)\n",
    "        setcolor(color0)\n",
    "        poly([start+vector0*(.2, .2)-vector1*(0.05, 0.05), start+vector0*(.8, .8)-vector1*(0.05, 0.05), \n",
    "                start+vector0*(.8, .8)+vector1*(1.05, 1.05), start+vector0*(.2, .2)+vector1*(1.05, 1.05)], \n",
    "            close=true,  :fill)\n",
    "        setcolor(\"black\")\n",
    "        poly([start+vector1*(.15, .15), start+vector1*(.85, .85), start+vector1*(.85, .85)+vector0, \n",
    "                start+vector1*(.15, .15)+vector0], \n",
    "            close=true,  :fill)\n",
    "        setcolor(color1)\n",
    "        poly([start+vector1*(.2, .2)-vector0*(0.05, 0.05), start+vector1*(.8, .8)-vector0*(0.05, 0.05), \n",
    "                start+vector1*(.8, .8)+vector0*(1.05, 1.05), start+vector1*(.2, .2)+vector0*(1.05, 1.05)], \n",
    "            close=true,  :fill)\n",
    "    elseif (sz == \"S\")\n",
    "        setcolor(\"black\")\n",
    "        poly([start+vector1*(.15, .15), start+vector1*(.85, .85), start+vector1*(.85, .85)+vector0, \n",
    "                start+vector1*(.15, .15)+vector0], \n",
    "            close=true,  :fill)\n",
    "        setcolor(color1)\n",
    "        poly([start+vector1*(.2, .2)-vector0*(0.05, 0.05), start+vector1*(.8, .8)-vector0*(0.05, 0.05), \n",
    "                start+vector1*(.8, .8)+vector0*(1.05, 1.05), start+vector1*(.2, .2)+vector0*(1.05, 1.05)], \n",
    "            close=true,  :fill)\n",
    "        setcolor(\"black\")\n",
    "        poly([start+vector0*(.15, .15), start+vector0*(.85, .85), start+vector0*(.85, .85)+vector1, \n",
    "                start+vector0*(.15, .15)+vector1], \n",
    "             close=true,  :fill)\n",
    "        setcolor(color0)\n",
    "        poly([start+vector0*(.2, .2)-vector1*(0.05, 0.05), start+vector0*(.8, .8)-vector1*(0.05, 0.05), \n",
    "                start+vector0*(.8, .8)+vector1*(1.05, 1.05), start+vector0*(.2, .2)+vector1*(1.05, 1.05)], \n",
    "            close=true,  :fill)\n",
    "      end\n",
    "end"
   ]
  },
  {
   "cell_type": "markdown",
   "id": "d360f7b8",
   "metadata": {},
   "source": [
    "Given the size of a square grid, binary vectors indicating the colors of the threads on two sides, and the names of the colors, generate an array of information about the crossings:"
   ]
  },
  {
   "cell_type": "code",
   "execution_count": null,
   "id": "8b337e4e",
   "metadata": {},
   "outputs": [],
   "source": [
    "function fillGrid(n, left, right, colors)\n",
    "    grid = Array{String}(undef, n, n, 3)\n",
    "    for i = 1:n\n",
    "        for j = 1:n\n",
    "            grid[i,j,1] = colors[left[i]+1]\n",
    "            grid[i,j,2] = colors[right[j]+1]\n",
    "            if (i+j) % 2 == 0\n",
    "                grid[i,j,3] = \"S\"\n",
    "            else \n",
    "                grid[i,j,3] = \"Z\"\n",
    "            end\n",
    "        end\n",
    "    end\n",
    "    return grid\n",
    "end"
   ]
  },
  {
   "cell_type": "markdown",
   "id": "4f5964d2",
   "metadata": {},
   "source": [
    "Given the array of information produced by `fillGrid`, draw the grid:"
   ]
  },
  {
   "cell_type": "code",
   "execution_count": null,
   "id": "2c65558e",
   "metadata": {},
   "outputs": [],
   "source": [
    "function drawGrid(n, grid, start, vector0, vector1)\n",
    "if grid != nothing\n",
    "    for i = 1:n\n",
    "        for j = 1:n\n",
    "            crossing(start+vector0*(i,i)+vector1*(j,j), vector0, vector1, Tuple(grid[i,j,:]))\n",
    "        end\n",
    "    end\n",
    "end\n",
    "end\n",
    "            "
   ]
  },
  {
   "cell_type": "markdown",
   "id": "54a21fbf",
   "metadata": {},
   "source": [
    "Label the grid by listing the thread numbers (between 1 and 16) which have color A:"
   ]
  },
  {
   "cell_type": "code",
   "execution_count": null,
   "id": "ce77af8a",
   "metadata": {},
   "outputs": [],
   "source": [
    "function makeLabel(n, odds, evens)\n",
    "     string(join([odds[i]==1 ? string(2*n+1 - 2*i, \".\") : \"\" for i=n:-1:1]), \"/\", \n",
    "        join([evens[i]==1 ? string(2*i, \".\") : \"\" for i=1:n]))\n",
    "end\n"
   ]
  },
  {
   "cell_type": "markdown",
   "id": "ac9d39b5",
   "metadata": {},
   "source": [
    "The list of bracelets up to equivalence, organized by the number of spots they generate in the braid.  Comments indicate the symmetries present without and with colors swapped."
   ]
  },
  {
   "cell_type": "code",
   "execution_count": null,
   "id": "728484d8",
   "metadata": {},
   "outputs": [],
   "source": [
    "oddbracelets =\n",
    "# 0 spots:\n",
    "[[0 0 0 0 0 0 0 0],  #mirror\n",
    "# 4 spots:\n",
    "[0 0 0 0 0 0 0 1],   #mirror\n",
    "# 8 spots:\n",
    "[0 0 0 0 0 0 1 1     #glide\n",
    "0 0 0 0 0 1 0 1      #mirror\n",
    "0 0 0 0 1 0 0 1      #glide\n",
    "0 0 0 1 0 0 0 1],    #mirror\n",
    "# 12 spots:\n",
    "[0 0 0 0 0 1 1 1  #mirror\n",
    "0 0 0 0 1 0 1 1  #none\n",
    "0 0 0 1 0 0 1 1    #none\n",
    "0 0 0 1 0 1 0 1 #mirror\n",
    "0 0 1 0 0 1 0 1],   #mirror\n",
    "# 16 spots:   \n",
    "[0 0 0 0 1 1 1 1     #glide #colorchangeglide\n",
    " 0 0 0 1 0 1 1 1         #none #colorchangeglide\n",
    " 0 0 0 1 1 0 1 1      #mirror\n",
    " 0 0 1 0 0 1 1 1     #mirror\n",
    " 0 0 1 0 1 0 1 1        #none #colorchangeglide\n",
    " 0 0 1 0 1 1 0 1     #glide #colorchange\n",
    " 0 0 1 1 0 0 1 1     #glide #colorchange\n",
    " 0 1 0 1 0 1 0 1],   #mirror #colorchange\n",
    "# 20 spots:\n",
    "[0 0 0 1 1 1 1 1    #mirror\n",
    " 0 0 1 0 1 1 1 1      #none\n",
    " 0 0 1 1 0 1 1 1       #none\n",
    " 0 1 0 1 0 1 1 1   #mirror\n",
    " 0 1 0 1 1 0 1 1],     #mirror    \n",
    "# 24 spots:\n",
    "[0 0 1 1 1 1 1 1  #glide\n",
    " 0 1 0 1 1 1 1 1   #mirror\n",
    " 0 1 1 0 1 1 1 1    #glide\n",
    " 0 1 1 1 0 1 1 1], #mirror\n",
    "# 28 spots:\n",
    "[0 1 1 1 1 1 1 1], #mirror\n",
    "# 32 spots:\n",
    "[1 1 1 1 1 1 1 1]] #mirror\n"
   ]
  },
  {
   "cell_type": "markdown",
   "id": "b0f370a7",
   "metadata": {},
   "source": [
    "Numeric codes for the types of symmetries present in the previous list:"
   ]
  },
  {
   "cell_type": "code",
   "execution_count": null,
   "id": "a8b44743",
   "metadata": {},
   "outputs": [],
   "source": [
    "oddsymmtypes = [[1],  #mirror\n",
    "#\n",
    "[1],   #mirror\n",
    "#\n",
    "[-1      #glide\n",
    "1    #mirror\n",
    "-1    #glide\n",
    "1],      #mirror\n",
    "#\n",
    "[1  #mirror\n",
    "0     #none\n",
    "0  #none\n",
    "1 #mirror\n",
    "1],   #mirror\n",
    "#    \n",
    "[-1     #glide #colorchangeglide\n",
    " 0         #none #colorchangeglide\n",
    " 1      #mirror\n",
    " 1     #mirror\n",
    " 0       #none #colorchangeglide\n",
    " -1     #glide #colorchange\n",
    " -1     #glide #colorchange\n",
    " 1],   #mirror #colorchange\n",
    "#\n",
    "[1  #mirror\n",
    "0     #none\n",
    "0  #none\n",
    "1 #mirror\n",
    "1],   #mirror\n",
    "#\n",
    "[-1      #glide\n",
    "1    #mirror\n",
    "-1    #glide\n",
    "1],      #mirror\n",
    "[1],   #mirror\n",
    "#\n",
    "[1]] #mirror"
   ]
  },
  {
   "cell_type": "markdown",
   "id": "f564be47",
   "metadata": {},
   "source": [
    "The list of bracelets used for the other side of the grid has more than one representative for some equivalence classes, to account for the \"additions\" (a) and (c) described in https://joshuarbholden.github.io/kumihimo/inventory.html."
   ]
  },
  {
   "cell_type": "code",
   "execution_count": null,
   "id": "b8e39129",
   "metadata": {},
   "outputs": [],
   "source": [
    "evenbracelets =\n",
    "# 0 spots:\n",
    "[[0 0 0 0 0 0 0 0],  #mirror\n",
    "# 4 spots:\n",
    "[0 0 0 0 0 0 0 1   #mirror\n",
    "0 0 0 0 0 0 1 0],   #mirror shifted\n",
    "# 8 spots:\n",
    "[0 0 0 0 0 0 1 1     #glide\n",
    "0 0 0 0 0 1 0 1      #mirror\n",
    "0 0 0 0 1 0 0 1      #glide\n",
    "0 0 0 1 0 0 0 1    #mirror\n",
    "0 0 0 0 0 1 1 0    #glide shifted\n",
    "0 0 0 0 1 0 1 0     #mirror shifted\n",
    "0 0 0 1 0 0 1 0     #glide shifted\n",
    "0 0 1 0 0 0 1 0],   #mirror  shifted      \n",
    "# 12 spots:\n",
    "[0 0 0 0 0 1 1 1  #mirror\n",
    "0 0 0 0 1 0 1 1  #none\n",
    "0 0 0 0 1 1 0 1  #none, reverse of earlier   \n",
    "0 0 0 1 0 0 1 1    #none\n",
    "0 0 0 1 0 1 0 1 #mirror\n",
    "0 0 0 1 1 0 0 1  #none, reverse of earlier         \n",
    "0 0 1 0 0 1 0 1  #mirror\n",
    "0 0 0 0 1 1 1 0  #mirror shifted\n",
    "0 0 0 1 0 1 1 0  #none shifted\n",
    "0 0 0 1 1 0 1 0  #none, reverse of earlier shifted   \n",
    "0 0 1 0 0 1 1 0     #none shifted\n",
    "0 0 1 0 1 0 1 0 #mirror shifted\n",
    "0 0 1 1 0 0 1 0   #none, reverse of earlier shifted        \n",
    "0 1 0 0 1 0 1 0],  #mirror shifted      \n",
    "# 16 spots:   \n",
    "[0 0 0 0 1 1 1 1     #glide #colorchangeglide\n",
    " 0 0 0 1 0 1 1 1         #none #colorchangeglide\n",
    " 0 0 0 1 1 0 1 1      #mirror\n",
    " 0 0 0 1 1 1 0 1 #none, reverse of earlier   \n",
    "#0 0 1 0 0 1 1 1     #mirror is cc of previous\n",
    " 0 0 1 0 1 0 1 1        #none #colorchangeglide\n",
    " 0 0 1 0 1 1 0 1     #glide #colorchange\n",
    " 0 0 1 1 0 0 1 1     #glide #colorchange\n",
    " 0 0 1 1 0 1 0 1 #none, reverse of earlier          \n",
    " 0 1 0 1 0 1 0 1],   #mirror #colorchange\n",
    "# 20 spots:\n",
    "[0 0 0 1 1 1 1 1    #mirror\n",
    " 0 0 1 0 1 1 1 1      #none\n",
    " 0 0 1 1 0 1 1 1       #none\n",
    " 0 0 1 1 1 0 1 1       #none, reverse of earlier\n",
    " 0 0 1 1 1 1 0 1      #none, reverse of earlier\n",
    " 0 1 0 1 0 1 1 1   #mirror\n",
    " 0 1 0 1 1 0 1 1],   #mirror    \n",
    "# 24 spots:\n",
    "[0 0 1 1 1 1 1 1  #glide\n",
    " 0 1 0 1 1 1 1 1   #mirror\n",
    " 0 1 1 0 1 1 1 1    #glide\n",
    " 0 1 1 1 0 1 1 1], #mirror\n",
    "# 28 spots:\n",
    "[0 1 1 1 1 1 1 1], #mirror\n",
    "# 32 spots:\n",
    "[1 1 1 1 1 1 1 1]] #mirror\n"
   ]
  },
  {
   "cell_type": "markdown",
   "id": "701e6eae",
   "metadata": {},
   "source": [
    "Likewise there are some extra symmetry codes denoting which items in the previous list are duplicates and which symmetry makes them equivalent:"
   ]
  },
  {
   "cell_type": "code",
   "execution_count": null,
   "id": "3f48742e",
   "metadata": {},
   "outputs": [],
   "source": [
    "evensymmtypes = [[1],  #mirror\n",
    "#4 spots\n",
    "[1    #mirror\n",
    "2],   #mirror shifted\n",
    "#8 spots\n",
    "[-1      #glide\n",
    "1    #mirror\n",
    "-1    #glide\n",
    "1      #mirror\n",
    "-2      #glide shifted\n",
    "2    #mirror shifted\n",
    "-2    #glide shifted\n",
    "2],      #mirror shifted\n",
    "#12 spots\n",
    "[1  #mirror\n",
    "0     #none\n",
    "1000  #none, reverse of earlier\n",
    "0     #none\n",
    "1 #mirror \n",
    "1000  #none, reverse of earlier \n",
    "1   #mirror \n",
    "2  #mirror shifted\n",
    "0     #none shifted\n",
    "2000  #none, reverse of earlier shifted\n",
    "0     #none shifted\n",
    "2 #mirror shifted\n",
    "2000  #none, reverse of earlier shifted\n",
    "2],   #mirror shifted       \n",
    "#16 spots    \n",
    "[-1     #glide #colorchangeglide\n",
    " 0         #none #colorchangeglide\n",
    " 1      #mirror\n",
    " 1000 #none, reverse of earlier   \n",
    "#1     #mirror is cc of previous\n",
    " 0        #none #colorchangeglide\n",
    " -1    #glide #colorchange\n",
    " -1     #glide #colorchange\n",
    "1000 #none, reverse of earlier          \n",
    " 1],   #mirror #colorchange\n",
    "#20 spots\n",
    "[1  #mirror\n",
    "0     #none\n",
    "0  #none\n",
    "1000     #none, reverse of earlier\n",
    "1000  #none, reverse of earlier\n",
    "1 #mirror\n",
    "1],   #mirror\n",
    "#\n",
    "[-1      #glide\n",
    "1    #mirror\n",
    "-1    #glide\n",
    "1],      #mirror\n",
    "[1],   #mirror\n",
    "#\n",
    "[1]] #mirror"
   ]
  },
  {
   "cell_type": "markdown",
   "id": "38f62991",
   "metadata": {},
   "source": [
    "Each cell of Table 3 is now drawn in a separate code block.  The `if` statements account for the \"exceptions\" (b) and (d) described in https://joshuarbholden.github.io/kumihimo/inventory.html."
   ]
  },
  {
   "cell_type": "markdown",
   "id": "e284a540",
   "metadata": {},
   "source": [
    "The zero-spot column, because, you know"
   ]
  },
  {
   "cell_type": "code",
   "execution_count": null,
   "id": "152718c2",
   "metadata": {},
   "outputs": [],
   "source": [
    "using Luxor\n",
    "@svg begin\n",
    "    left = 0\n",
    "    right = 0\n",
    "    fontsize(14)\n",
    "    origin(0,0)\n",
    "    tiles = Partition(2inch, 2inch, 2inch, 2inch)\n",
    "    for (pos, i) in tiles\n",
    "        origin()\n",
    "        translate(pos)\n",
    "        if (oddsymmtypes[left+1][tiles.currentrow]*evensymmtypes[right+1][tiles.currentcol] != -2)\n",
    "            setcolor(\"black\")\n",
    "            label(makeLabel(8, oddbracelets[left+1][tiles.currentrow, :], \n",
    "                    reverse(evenbracelets[right+1][tiles.currentcol, :])), \n",
    "                :N, O-(0, 0.6inch))\n",
    "            grid= fillGrid(8, oddbracelets[left+1][tiles.currentrow, :], \n",
    "                    reverse(evenbracelets[right+1][tiles.currentcol, :]), [\"blue\", \"yellow\"])\n",
    "            drawGrid(8, grid, O-(0, 0.8inch), Point(-0.1inch,0.1inch), Point(0.1inch,0.1inch))\n",
    "         end\n",
    "     end\n",
    "    end 2inch 2inch"
   ]
  },
  {
   "cell_type": "code",
   "execution_count": null,
   "id": "a5626316",
   "metadata": {},
   "outputs": [],
   "source": [
    "using Luxor\n",
    "@svg begin\n",
    "    left = 1\n",
    "    right = 0\n",
    "    fontsize(14)\n",
    "    origin(0,0)\n",
    "    tiles = Partition(2inch, 2inch, 2inch, 2inch)\n",
    "    for (pos, i) in tiles\n",
    "        origin()\n",
    "        translate(pos)\n",
    "        if (oddsymmtypes[left+1][tiles.currentrow]*evensymmtypes[right+1][tiles.currentcol] != -2)\n",
    "            setcolor(\"black\")\n",
    "            label(makeLabel(8, oddbracelets[left+1][tiles.currentrow, :], \n",
    "                    reverse(evenbracelets[right+1][tiles.currentcol, :])), \n",
    "                :N, O-(0, 0.6inch))\n",
    "            grid= fillGrid(8, oddbracelets[left+1][tiles.currentrow, :], \n",
    "                    reverse(evenbracelets[right+1][tiles.currentcol, :]), [\"blue\", \"yellow\"])\n",
    "            drawGrid(8, grid, O-(0, 0.8inch), Point(-0.1inch,0.1inch), Point(0.1inch,0.1inch))\n",
    "         end\n",
    "     end\n",
    "    end 2inch 2inch"
   ]
  },
  {
   "cell_type": "code",
   "execution_count": null,
   "id": "28deb1a5",
   "metadata": {},
   "outputs": [],
   "source": [
    "using Luxor\n",
    "@svg begin\n",
    "    left = 2\n",
    "    right = 0\n",
    "    fontsize(14)\n",
    "    origin(0,0)\n",
    "    tiles = Partition(2inch, 8inch, 2inch, 2inch)\n",
    "    for (pos, i) in tiles\n",
    "        origin()\n",
    "        translate(pos)\n",
    "        if (oddsymmtypes[left+1][tiles.currentrow]*evensymmtypes[right+1][tiles.currentcol] != -2)\n",
    "            setcolor(\"black\")\n",
    "            label(makeLabel(8, oddbracelets[left+1][tiles.currentrow, :], \n",
    "                    reverse(evenbracelets[right+1][tiles.currentcol, :])), \n",
    "                :N, O-(0, 0.6inch))\n",
    "            grid= fillGrid(8, oddbracelets[left+1][tiles.currentrow, :], \n",
    "                    reverse(evenbracelets[right+1][tiles.currentcol, :]), [\"blue\", \"yellow\"])\n",
    "            drawGrid(8, grid, O-(0, 0.8inch), Point(-0.1inch,0.1inch), Point(0.1inch,0.1inch))\n",
    "         end\n",
    "     end\n",
    "    end 2inch 8inch"
   ]
  },
  {
   "cell_type": "code",
   "execution_count": null,
   "id": "b72e8cdb",
   "metadata": {},
   "outputs": [],
   "source": [
    "using Luxor\n",
    "@svg begin\n",
    "    left = 3\n",
    "    right = 0\n",
    "    fontsize(14)\n",
    "    origin(0,0)\n",
    "    tiles = Partition(2inch, 10inch, 2inch, 2inch)\n",
    "    for (pos, i) in tiles\n",
    "        origin()\n",
    "        translate(pos)\n",
    "        if (oddsymmtypes[left+1][tiles.currentrow]*evensymmtypes[right+1][tiles.currentcol] != -2)\n",
    "            setcolor(\"black\")\n",
    "            label(makeLabel(8, oddbracelets[left+1][tiles.currentrow, :], \n",
    "                    reverse(evenbracelets[right+1][tiles.currentcol, :])), \n",
    "                :N, O-(0, 0.6inch))\n",
    "            grid= fillGrid(8, oddbracelets[left+1][tiles.currentrow, :], \n",
    "                    reverse(evenbracelets[right+1][tiles.currentcol, :]), [\"blue\", \"yellow\"])\n",
    "            drawGrid(8, grid, O-(0, 0.8inch), Point(-0.1inch,0.1inch), Point(0.1inch,0.1inch))\n",
    "         end\n",
    "     end\n",
    "    end 2inch 10inch"
   ]
  },
  {
   "cell_type": "code",
   "execution_count": null,
   "id": "8d12bd5c",
   "metadata": {},
   "outputs": [],
   "source": [
    "using Luxor\n",
    "@svg begin\n",
    "    left = 4\n",
    "    right = 0\n",
    "    fontsize(14)\n",
    "    origin(0,0)\n",
    "    tiles = Partition(2inch, 16inch, 2inch, 2inch)\n",
    "    for (pos, i) in tiles\n",
    "        origin()\n",
    "        translate(pos)\n",
    "        if (oddsymmtypes[left+1][tiles.currentrow]*evensymmtypes[right+1][tiles.currentcol] != -2)\n",
    "            setcolor(\"black\")\n",
    "            label(makeLabel(8, oddbracelets[left+1][tiles.currentrow, :], \n",
    "                    reverse(evenbracelets[right+1][tiles.currentcol, :])), \n",
    "                :N, O-(0, 0.6inch))\n",
    "            grid= fillGrid(8, oddbracelets[left+1][tiles.currentrow, :], \n",
    "                    reverse(evenbracelets[right+1][tiles.currentcol, :]), [\"blue\", \"yellow\"])\n",
    "            drawGrid(8, grid, O-(0, 0.8inch), Point(-0.1inch,0.1inch), Point(0.1inch,0.1inch))\n",
    "         end\n",
    "     end\n",
    "    end 2inch 16inch"
   ]
  },
  {
   "cell_type": "code",
   "execution_count": null,
   "id": "45d45e79",
   "metadata": {},
   "outputs": [],
   "source": [
    "using Luxor\n",
    "@svg begin\n",
    "    left = 5\n",
    "    right = 0\n",
    "    fontsize(14)\n",
    "    origin(0,0)\n",
    "    tiles = Partition(2inch, 10inch, 2inch, 2inch)\n",
    "    for (pos, i) in tiles\n",
    "        origin()\n",
    "        translate(pos)\n",
    "        if (oddsymmtypes[left+1][tiles.currentrow]*evensymmtypes[right+1][tiles.currentcol] != -2)\n",
    "            setcolor(\"black\")\n",
    "            label(makeLabel(8, oddbracelets[left+1][tiles.currentrow, :], \n",
    "                    reverse(evenbracelets[right+1][tiles.currentcol, :])), \n",
    "                :N, O-(0, 0.6inch))\n",
    "            grid= fillGrid(8, oddbracelets[left+1][tiles.currentrow, :], \n",
    "                    reverse(evenbracelets[right+1][tiles.currentcol, :]), [\"blue\", \"yellow\"])\n",
    "            drawGrid(8, grid, O-(0, 0.8inch), Point(-0.1inch,0.1inch), Point(0.1inch,0.1inch))\n",
    "         end\n",
    "     end\n",
    "    end 2inch 10inch"
   ]
  },
  {
   "cell_type": "code",
   "execution_count": null,
   "id": "eab3290b",
   "metadata": {},
   "outputs": [],
   "source": [
    "using Luxor\n",
    "@svg begin\n",
    "    left = 6\n",
    "    right = 0\n",
    "    fontsize(14)\n",
    "    origin(0,0)\n",
    "    tiles = Partition(2inch, 8inch, 2inch, 2inch)\n",
    "    for (pos, i) in tiles\n",
    "        origin()\n",
    "        translate(pos)\n",
    "        if (oddsymmtypes[left+1][tiles.currentrow]*evensymmtypes[right+1][tiles.currentcol] != -2)\n",
    "            setcolor(\"black\")\n",
    "            label(makeLabel(8, oddbracelets[left+1][tiles.currentrow, :], \n",
    "                    reverse(evenbracelets[right+1][tiles.currentcol, :])), \n",
    "                :N, O-(0, 0.6inch))\n",
    "            grid= fillGrid(8, oddbracelets[left+1][tiles.currentrow, :], \n",
    "                    reverse(evenbracelets[right+1][tiles.currentcol, :]), [\"blue\", \"yellow\"])\n",
    "            drawGrid(8, grid, O-(0, 0.8inch), Point(-0.1inch,0.1inch), Point(0.1inch,0.1inch))\n",
    "         end\n",
    "     end\n",
    "    end 2inch 8inch"
   ]
  },
  {
   "cell_type": "code",
   "execution_count": null,
   "id": "7631b3b8",
   "metadata": {},
   "outputs": [],
   "source": [
    "using Luxor\n",
    "@svg begin\n",
    "    left = 7\n",
    "    right = 0\n",
    "    fontsize(14)\n",
    "    origin(0,0)\n",
    "    tiles = Partition(2inch, 2inch, 2inch, 2inch)\n",
    "    for (pos, i) in tiles\n",
    "        origin()\n",
    "        translate(pos)\n",
    "        if (oddsymmtypes[left+1][tiles.currentrow]*evensymmtypes[right+1][tiles.currentcol] != -2)\n",
    "            setcolor(\"black\")\n",
    "            label(makeLabel(8, oddbracelets[left+1][tiles.currentrow, :], \n",
    "                    reverse(evenbracelets[right+1][tiles.currentcol, :])), \n",
    "                :N, O-(0, 0.6inch))\n",
    "            grid= fillGrid(8, oddbracelets[left+1][tiles.currentrow, :], \n",
    "                    reverse(evenbracelets[right+1][tiles.currentcol, :]), [\"blue\", \"yellow\"])\n",
    "            drawGrid(8, grid, O-(0, 0.8inch), Point(-0.1inch,0.1inch), Point(0.1inch,0.1inch))\n",
    "         end\n",
    "     end\n",
    "    end 2inch 2inch"
   ]
  },
  {
   "cell_type": "code",
   "execution_count": null,
   "id": "9db28615",
   "metadata": {},
   "outputs": [],
   "source": [
    "using Luxor\n",
    "@svg begin\n",
    "    left = 8\n",
    "    right = 0\n",
    "    fontsize(14)\n",
    "    origin(0,0)\n",
    "    tiles = Partition(2inch, 2inch, 2inch, 2inch)\n",
    "    for (pos, i) in tiles\n",
    "        origin()\n",
    "        translate(pos)\n",
    "        if (oddsymmtypes[left+1][tiles.currentrow]*evensymmtypes[right+1][tiles.currentcol] != -2)\n",
    "            setcolor(\"black\")\n",
    "            label(makeLabel(8, oddbracelets[left+1][tiles.currentrow, :], \n",
    "                    reverse(evenbracelets[right+1][tiles.currentcol, :])), \n",
    "                :N, O-(0, 0.6inch))\n",
    "            grid= fillGrid(8, oddbracelets[left+1][tiles.currentrow, :], \n",
    "                    reverse(evenbracelets[right+1][tiles.currentcol, :]), [\"blue\", \"yellow\"])\n",
    "            drawGrid(8, grid, O-(0, 0.8inch), Point(-0.1inch,0.1inch), Point(0.1inch,0.1inch))\n",
    "         end\n",
    "     end\n",
    "    end 2inch 2inch"
   ]
  },
  {
   "cell_type": "markdown",
   "id": "dd67e3e6",
   "metadata": {},
   "source": [
    "4 plus 4 spots, for completeness"
   ]
  },
  {
   "cell_type": "code",
   "execution_count": null,
   "id": "7cbd019e",
   "metadata": {},
   "outputs": [],
   "source": [
    "using Luxor\n",
    "@svg begin\n",
    "    left = 1\n",
    "    right = 1\n",
    "    fontsize(14)\n",
    "    origin(0,0)\n",
    "    tiles = Partition(2inch, 2inch, 2inch, 2inch)\n",
    "    for (pos, i) in tiles\n",
    "        origin()\n",
    "        translate(pos-(1inch,0))\n",
    "        if (oddsymmtypes[left+1][tiles.currentrow]*evensymmtypes[right+1][tiles.currentcol] != -2)\n",
    "            setcolor(\"black\")\n",
    "            label(makeLabel(8, oddbracelets[left+1][tiles.currentrow, :], \n",
    "                    reverse(evenbracelets[right+1][tiles.currentcol, :])), \n",
    "                :N, O-(0, 0.6inch))\n",
    "            grid= fillGrid(8, oddbracelets[left+1][tiles.currentrow, :], \n",
    "                    reverse(evenbracelets[right+1][tiles.currentcol, :]), [\"blue\", \"yellow\"])\n",
    "            drawGrid(8, grid, O-(0, 0.8inch), Point(-0.1inch,0.1inch), Point(0.1inch,0.1inch))\n",
    "         end\n",
    "     end\n",
    "    end 4inch 2inch"
   ]
  },
  {
   "cell_type": "markdown",
   "id": "f072b8a4",
   "metadata": {},
   "source": [
    "8 plus 4 spots, 6 total:"
   ]
  },
  {
   "cell_type": "code",
   "execution_count": null,
   "id": "925dd08f",
   "metadata": {},
   "outputs": [],
   "source": [
    "using Luxor\n",
    "@svg begin\n",
    "    left = 2\n",
    "    right = 1\n",
    "    fontsize(14)\n",
    "    origin(0,0)\n",
    "    tiles = Partition(4inch, 8inch, 2inch, 2inch)\n",
    "    for (pos, i) in tiles\n",
    "        origin()\n",
    "        translate(pos)\n",
    "        if (oddsymmtypes[left+1][tiles.currentrow]*evensymmtypes[right+1][tiles.currentcol] != -2)\n",
    "            setcolor(\"black\")\n",
    "            label(makeLabel(8, oddbracelets[left+1][tiles.currentrow, :], \n",
    "                    reverse(evenbracelets[right+1][tiles.currentcol, :])), \n",
    "                :N, O-(0, 0.6inch))\n",
    "            grid= fillGrid(8, oddbracelets[left+1][tiles.currentrow, :], \n",
    "                    reverse(evenbracelets[right+1][tiles.currentcol, :]), [\"blue\", \"yellow\"])\n",
    "            drawGrid(8, grid, O-(0, 0.8inch), Point(-0.1inch,0.1inch), Point(0.1inch,0.1inch))\n",
    "         end\n",
    "     end\n",
    "    end 4inch 8inch"
   ]
  },
  {
   "cell_type": "markdown",
   "id": "e1c44558",
   "metadata": {},
   "source": [
    "12 plus 4 spots, 10 total:  not interesting\n"
   ]
  },
  {
   "cell_type": "code",
   "execution_count": null,
   "id": "f7c803d9",
   "metadata": {
    "scrolled": false
   },
   "outputs": [],
   "source": [
    "using Luxor\n",
    "@svg begin\n",
    "    left = 3\n",
    "    right = 1\n",
    "    fontsize(14)\n",
    "    origin(0,0)\n",
    "    tiles = Partition(4inch, 10inch, 2inch, 2inch)\n",
    "    for (pos, i) in tiles\n",
    "        origin()\n",
    "        translate(pos)\n",
    "        if (oddsymmtypes[left+1][tiles.currentrow]*evensymmtypes[right+1][tiles.currentcol] != -2)\n",
    "            setcolor(\"black\")\n",
    "            label(makeLabel(8, oddbracelets[left+1][tiles.currentrow, :], \n",
    "                    reverse(evenbracelets[right+1][tiles.currentcol, :])), \n",
    "                :N, O-(0, 0.6inch))\n",
    "            grid= fillGrid(8, oddbracelets[left+1][tiles.currentrow, :], \n",
    "                    reverse(evenbracelets[right+1][tiles.currentcol, :]), [\"blue\", \"yellow\"])\n",
    "            drawGrid(8, grid, O-(0, 0.8inch), Point(-0.1inch,0.1inch), Point(0.1inch,0.1inch))\n",
    "         end\n",
    "     end\n",
    "    end 4inch 10inch"
   ]
  },
  {
   "cell_type": "markdown",
   "id": "7ebfd956",
   "metadata": {},
   "source": [
    "16 plus 4 spots, 13 total"
   ]
  },
  {
   "cell_type": "code",
   "execution_count": null,
   "id": "c7ded603",
   "metadata": {},
   "outputs": [],
   "source": [
    "using Luxor\n",
    "@svg begin\n",
    "    left = 4\n",
    "    right = 1\n",
    "    fontsize(14)\n",
    "    origin(0,0)\n",
    "    tiles = Partition(4inch, 16inch, 2inch, 2inch)\n",
    "    for (pos, i) in tiles\n",
    "        origin()\n",
    "        translate(pos)\n",
    "        if (oddsymmtypes[left+1][tiles.currentrow]*evensymmtypes[right+1][tiles.currentcol] != -2)\n",
    "            setcolor(\"black\")\n",
    "            label(makeLabel(8, oddbracelets[left+1][tiles.currentrow, :], \n",
    "                    reverse(evenbracelets[right+1][tiles.currentcol, :])), \n",
    "                :N, O-(0, 0.6inch))\n",
    "            grid= fillGrid(8, oddbracelets[left+1][tiles.currentrow, :], \n",
    "                    reverse(evenbracelets[right+1][tiles.currentcol, :]), [\"blue\", \"yellow\"])\n",
    "            drawGrid(8, grid, O-(0, 0.8inch), Point(-0.1inch,0.1inch), Point(0.1inch,0.1inch))\n",
    "         end\n",
    "     end\n",
    "    end 4inch 16inch"
   ]
  },
  {
   "cell_type": "markdown",
   "id": "c2505a3f",
   "metadata": {},
   "source": [
    "20 plus 4 spots, 10 total:  not interesting\n"
   ]
  },
  {
   "cell_type": "code",
   "execution_count": null,
   "id": "9a6f3b88",
   "metadata": {},
   "outputs": [],
   "source": [
    "using Luxor\n",
    "@svg begin\n",
    "    left = 5\n",
    "    right = 1\n",
    "    fontsize(14)\n",
    "    origin(0,0)\n",
    "    tiles = Partition(4inch, 10inch, 2inch, 2inch)\n",
    "    for (pos, i) in tiles\n",
    "        origin()\n",
    "        translate(pos)\n",
    "        if (oddsymmtypes[left+1][tiles.currentrow]*evensymmtypes[right+1][tiles.currentcol] != -2)\n",
    "            setcolor(\"black\")\n",
    "            label(makeLabel(8, oddbracelets[left+1][tiles.currentrow, :], \n",
    "                    reverse(evenbracelets[right+1][tiles.currentcol, :])), \n",
    "                :N, O-(0, 0.6inch))\n",
    "            grid= fillGrid(8, oddbracelets[left+1][tiles.currentrow, :], \n",
    "                    reverse(evenbracelets[right+1][tiles.currentcol, :]), [\"blue\", \"yellow\"])\n",
    "            drawGrid(8, grid, O-(0, 0.8inch), Point(-0.1inch,0.1inch), Point(0.1inch,0.1inch))\n",
    "         end\n",
    "     end\n",
    "    end 4inch 10inch"
   ]
  },
  {
   "cell_type": "markdown",
   "id": "66f9046b",
   "metadata": {},
   "source": [
    "24 plus 4 spots, 6 total"
   ]
  },
  {
   "cell_type": "code",
   "execution_count": null,
   "id": "7024d0f7",
   "metadata": {},
   "outputs": [],
   "source": [
    "using Luxor\n",
    "@svg begin\n",
    "    left = 6\n",
    "    right = 1\n",
    "    fontsize(14)\n",
    "    origin(0,0)\n",
    "    tiles = Partition(4inch, 8inch, 2inch, 2inch)\n",
    "    for (pos, i) in tiles\n",
    "        origin()\n",
    "        translate(pos)\n",
    "        if (oddsymmtypes[left+1][tiles.currentrow]*evensymmtypes[right+1][tiles.currentcol] != -2)\n",
    "            setcolor(\"black\")\n",
    "            label(makeLabel(8, oddbracelets[left+1][tiles.currentrow, :], \n",
    "                    reverse(evenbracelets[right+1][tiles.currentcol, :])), \n",
    "                :N, O-(0, 0.6inch))\n",
    "            grid= fillGrid(8, oddbracelets[left+1][tiles.currentrow, :], \n",
    "                    reverse(evenbracelets[right+1][tiles.currentcol, :]), [\"blue\", \"yellow\"])\n",
    "            drawGrid(8, grid, O-(0, 0.8inch), Point(-0.1inch,0.1inch), Point(0.1inch,0.1inch))\n",
    "         end\n",
    "     end\n",
    "    end 4inch 8inch"
   ]
  },
  {
   "cell_type": "markdown",
   "id": "d54bce46",
   "metadata": {},
   "source": [
    "28 plus 4 spots, for completeness"
   ]
  },
  {
   "cell_type": "code",
   "execution_count": null,
   "id": "3541b822",
   "metadata": {},
   "outputs": [],
   "source": [
    "using Luxor\n",
    "@svg begin\n",
    "    left = 7\n",
    "    right = 1\n",
    "    fontsize(14)\n",
    "    origin(0,0)\n",
    "    tiles = Partition(2inch, 2inch, 2inch, 2inch)\n",
    "    for (pos, i) in tiles\n",
    "        origin()\n",
    "        translate(pos-(1inch,0))\n",
    "        if (oddsymmtypes[left+1][tiles.currentrow]*evensymmtypes[right+1][tiles.currentcol] != -2)\n",
    "            setcolor(\"black\")\n",
    "            label(makeLabel(8, oddbracelets[left+1][tiles.currentrow, :], \n",
    "                    reverse(evenbracelets[right+1][tiles.currentcol, :])), \n",
    "                :N, O-(0, 0.6inch))\n",
    "            grid= fillGrid(8, oddbracelets[left+1][tiles.currentrow, :], \n",
    "                    reverse(evenbracelets[right+1][tiles.currentcol, :]), [\"blue\", \"yellow\"])\n",
    "            drawGrid(8, grid, O-(0, 0.8inch), Point(-0.1inch,0.1inch), Point(0.1inch,0.1inch))\n",
    "         end\n",
    "     end\n",
    "    end 4inch 2inch"
   ]
  },
  {
   "cell_type": "markdown",
   "id": "38ac2359",
   "metadata": {},
   "source": [
    "8 plus 8 spots, 12 total"
   ]
  },
  {
   "cell_type": "code",
   "execution_count": null,
   "id": "8a45a177",
   "metadata": {},
   "outputs": [],
   "source": [
    "using Luxor\n",
    "@svg begin\n",
    "    left = 2\n",
    "    right = 2\n",
    "    fontsize(14)\n",
    "    origin(0,0)\n",
    "    tiles = Partition(8inch, 8inch, 2inch, 2inch)\n",
    "    for (pos, i) in tiles\n",
    "        origin()\n",
    "        translate(pos)\n",
    "        if (tiles.currentrow >= tiles.currentcol) || (oddsymmtypes[left+1][tiles.currentrow]*evensymmtypes[right+1][tiles.currentcol] != -1)\n",
    "            setcolor(\"black\")\n",
    "            label(makeLabel(8, oddbracelets[left+1][tiles.currentrow, :], \n",
    "                    reverse(evenbracelets[right+1][tiles.currentcol, :])), \n",
    "                :N, O-(0, 0.6inch))\n",
    "            grid= fillGrid(8, oddbracelets[left+1][tiles.currentrow, :], \n",
    "                    reverse(evenbracelets[right+1][tiles.currentcol, :]), [\"blue\", \"yellow\"])\n",
    "            drawGrid(8, grid, O-(0, 0.8inch), Point(-0.1inch,0.1inch), Point(0.1inch,0.1inch))\n",
    "         end\n",
    "     end\n",
    "    end 8inch 8inch"
   ]
  },
  {
   "cell_type": "markdown",
   "id": "22faaf23",
   "metadata": {},
   "source": [
    "24 plus 8 spots, 12 total\n"
   ]
  },
  {
   "cell_type": "code",
   "execution_count": null,
   "id": "ae0282cd",
   "metadata": {
    "scrolled": false
   },
   "outputs": [],
   "source": [
    "using Luxor\n",
    "@svg begin\n",
    "    left = 6\n",
    "    right = 2\n",
    "    fontsize(14)\n",
    "    origin(0,0)\n",
    "    tiles = Partition(8inch, 8inch, 2inch, 2inch)\n",
    "    for (pos, i) in tiles\n",
    "        origin()\n",
    "        translate(pos)\n",
    "        if (tiles.currentrow >= tiles.currentcol) || (oddsymmtypes[left+1][tiles.currentrow]*evensymmtypes[right+1][tiles.currentcol] != -1)\n",
    "            setcolor(\"black\")\n",
    "            label(makeLabel(8, oddbracelets[left+1][tiles.currentrow, :], \n",
    "                    reverse(evenbracelets[right+1][tiles.currentcol, :])), \n",
    "                :N, O-(0, 0.6inch))\n",
    "            grid= fillGrid(8, oddbracelets[left+1][tiles.currentrow, :], \n",
    "                    reverse(evenbracelets[right+1][tiles.currentcol, :]), [\"blue\", \"yellow\"])\n",
    "            drawGrid(8, grid, O-(0, 0.8inch), Point(-0.1inch,0.1inch), Point(0.1inch,0.1inch))\n",
    "         end\n",
    "     end\n",
    "    end 8inch 8inch"
   ]
  },
  {
   "cell_type": "markdown",
   "id": "e69c975d",
   "metadata": {},
   "source": [
    "12 plus 8 spots, 34 total"
   ]
  },
  {
   "cell_type": "code",
   "execution_count": null,
   "id": "914b93c2",
   "metadata": {},
   "outputs": [],
   "source": [
    "using Luxor\n",
    "@svg begin\n",
    "    left = 3\n",
    "    right = 2\n",
    "    fontsize(14)\n",
    "    origin(0,0)\n",
    "    tiles = Partition(16inch, 10inch, 2inch, 2inch)\n",
    "    for (pos, i) in tiles\n",
    "        origin()\n",
    "        translate(pos)\n",
    "        if (oddsymmtypes[left+1][tiles.currentrow]*evensymmtypes[right+1][tiles.currentcol] != -2)\n",
    "            setcolor(\"black\")\n",
    "            label(makeLabel(8, oddbracelets[left+1][tiles.currentrow, :], \n",
    "                    reverse(evenbracelets[right+1][tiles.currentcol, :])), \n",
    "                :N, O-(0, 0.6inch))\n",
    "            grid= fillGrid(8, oddbracelets[left+1][tiles.currentrow, :], \n",
    "                    reverse(evenbracelets[right+1][tiles.currentcol, :]), [\"blue\", \"yellow\"])\n",
    "            drawGrid(8, grid, O-(0, 0.8inch), Point(-0.1inch,0.1inch), Point(0.1inch,0.1inch))\n",
    "         end\n",
    "     end\n",
    "    end 16inch 10inch"
   ]
  },
  {
   "cell_type": "markdown",
   "id": "3e8038b4",
   "metadata": {},
   "source": [
    "20 plus 8 spots, 34 total"
   ]
  },
  {
   "cell_type": "code",
   "execution_count": null,
   "id": "4493827c",
   "metadata": {},
   "outputs": [],
   "source": [
    "using Luxor\n",
    "@svg begin\n",
    "    left = 5\n",
    "    right = 2\n",
    "    fontsize(14)\n",
    "    origin(0,0)\n",
    "    tiles = Partition(16inch, 10inch, 2inch, 2inch)\n",
    "    for (pos, i) in tiles\n",
    "        origin()\n",
    "        translate(pos)\n",
    "        if (oddsymmtypes[left+1][tiles.currentrow]*evensymmtypes[right+1][tiles.currentcol] != -2)\n",
    "            setcolor(\"black\")\n",
    "            label(makeLabel(8, oddbracelets[left+1][tiles.currentrow, :], \n",
    "                    reverse(evenbracelets[right+1][tiles.currentcol, :])), \n",
    "                :N, O-(0, 0.6inch))\n",
    "            grid= fillGrid(8, oddbracelets[left+1][tiles.currentrow, :], \n",
    "                    reverse(evenbracelets[right+1][tiles.currentcol, :]), [\"blue\", \"yellow\"])\n",
    "            drawGrid(8, grid, O-(0, 0.8inch), Point(-0.1inch,0.1inch), Point(0.1inch,0.1inch))\n",
    "         end\n",
    "     end\n",
    "    end 16inch 10inch"
   ]
  },
  {
   "cell_type": "markdown",
   "id": "01a14ccc",
   "metadata": {},
   "source": [
    "16 plus 8 spots, 52 total"
   ]
  },
  {
   "cell_type": "code",
   "execution_count": null,
   "id": "26bc3034",
   "metadata": {},
   "outputs": [],
   "source": [
    "using Luxor\n",
    "@svg begin\n",
    "    left = 4\n",
    "    right = 2\n",
    "    fontsize(14)\n",
    "    origin(0,0)\n",
    "    tiles = Partition(16inch, 16inch, 2inch, 2inch)\n",
    "    for (pos, i) in tiles\n",
    "        origin()\n",
    "        translate(pos)\n",
    "        if (oddsymmtypes[left+1][tiles.currentrow]*evensymmtypes[right+1][tiles.currentcol] != -2)\n",
    "            setcolor(\"black\")\n",
    "            label(makeLabel(8, oddbracelets[left+1][tiles.currentrow, :], \n",
    "                    reverse(evenbracelets[right+1][tiles.currentcol, :])), \n",
    "                :N, O-(0, 0.6inch))\n",
    "            grid= fillGrid(8, oddbracelets[left+1][tiles.currentrow, :], \n",
    "                    reverse(evenbracelets[right+1][tiles.currentcol, :]), [\"blue\", \"yellow\"])\n",
    "            drawGrid(8, grid, O-(0, 0.8inch), Point(-0.1inch,0.1inch), Point(0.1inch,0.1inch))\n",
    "         end\n",
    "     end\n",
    "    end 16inch 16inch"
   ]
  },
  {
   "cell_type": "markdown",
   "id": "7cd311d1",
   "metadata": {},
   "source": [
    "12 plus 12 spots, 29 total"
   ]
  },
  {
   "cell_type": "markdown",
   "id": "d0c47efd",
   "metadata": {},
   "source": [
    "If odd has no symmetry, also need to use reverse of even"
   ]
  },
  {
   "cell_type": "code",
   "execution_count": null,
   "id": "9bf62031",
   "metadata": {},
   "outputs": [],
   "source": [
    "using Luxor\n",
    "@svg begin\n",
    "    left = 3\n",
    "    right = 3\n",
    "    fontsize(14)\n",
    "    origin(0,0)\n",
    "    tiles = Partition(14inch, 10inch, 2inch, 2inch)\n",
    "    for (pos, i) in tiles\n",
    "        origin()\n",
    "        translate(pos)\n",
    "        if (oddsymmtypes[left+1][tiles.currentrow] ==0) || (evensymmtypes[right+1][tiles.currentcol] != 1000)\n",
    "            setcolor(\"black\")\n",
    "            label(makeLabel(8, oddbracelets[left+1][tiles.currentrow, :], \n",
    "                    reverse(evenbracelets[right+1][tiles.currentcol, :])), \n",
    "                :N, O-(0, 0.6inch))\n",
    "            grid= fillGrid(8, oddbracelets[left+1][tiles.currentrow, :], \n",
    "                    reverse(evenbracelets[right+1][tiles.currentcol, :]), [\"blue\", \"yellow\"])\n",
    "            drawGrid(8, grid, O-(0, 0.8inch), Point(-0.1inch,0.1inch), Point(0.1inch,0.1inch))\n",
    "         end\n",
    "     end\n",
    "    end 14inch 10inch"
   ]
  },
  {
   "cell_type": "markdown",
   "id": "9163e696",
   "metadata": {},
   "source": [
    "20 plus 12 spots, 29 total"
   ]
  },
  {
   "cell_type": "code",
   "execution_count": null,
   "id": "53327526",
   "metadata": {},
   "outputs": [],
   "source": [
    "using Luxor\n",
    "@svg begin\n",
    "    left = 5\n",
    "    right = 3\n",
    "    fontsize(14)\n",
    "    origin(0,0)\n",
    "    tiles = Partition(14inch, 10inch, 2inch, 2inch)\n",
    "    for (pos, i) in tiles\n",
    "        origin()\n",
    "        translate(pos)\n",
    "        if (oddsymmtypes[left+1][tiles.currentrow] ==0) || (evensymmtypes[right+1][tiles.currentcol] != 1000)\n",
    "            setcolor(\"black\")\n",
    "            label(makeLabel(8, oddbracelets[left+1][tiles.currentrow, :], \n",
    "                    reverse(evenbracelets[right+1][tiles.currentcol, :])), \n",
    "                :N, O-(0, 0.6inch))\n",
    "            grid= fillGrid(8, oddbracelets[left+1][tiles.currentrow, :], \n",
    "                    reverse(evenbracelets[right+1][tiles.currentcol, :]), [\"blue\", \"yellow\"])\n",
    "            drawGrid(8, grid, O-(0, 0.8inch), Point(-0.1inch,0.1inch), Point(0.1inch,0.1inch))\n",
    "         end\n",
    "     end\n",
    "    end 14inch 10inch"
   ]
  },
  {
   "cell_type": "markdown",
   "id": "81f02467",
   "metadata": {},
   "source": [
    "16 plus 12 spots, 79 total"
   ]
  },
  {
   "cell_type": "markdown",
   "id": "9533e9e2",
   "metadata": {},
   "source": [
    " Shift unless one parity has mirror and the other parity has glide.  If odd has no symmetry, also need to use reverse of even."
   ]
  },
  {
   "cell_type": "code",
   "execution_count": null,
   "id": "8e52ebf5",
   "metadata": {},
   "outputs": [],
   "source": [
    "using Luxor\n",
    "@svg begin\n",
    "    left = 4\n",
    "    right = 3\n",
    "    fontsize(14)\n",
    "    origin(0,0)\n",
    "    tiles = Partition(28inch, 16inch, 2inch, 2inch)\n",
    "    for (pos, i) in tiles\n",
    "        origin()\n",
    "        translate(pos)\n",
    "        if (oddsymmtypes[left+1][tiles.currentrow]*evensymmtypes[right+1][tiles.currentcol] != -2) &&\n",
    "            ((oddsymmtypes[left+1][tiles.currentrow] ==0) || (evensymmtypes[right+1][tiles.currentcol] < 1000))\n",
    "            setcolor(\"black\")\n",
    "            label(makeLabel(8, oddbracelets[left+1][tiles.currentrow, :], \n",
    "                    reverse(evenbracelets[right+1][tiles.currentcol, :])), \n",
    "                :N, O-(0, 0.6inch))\n",
    "            grid= fillGrid(8, oddbracelets[left+1][tiles.currentrow, :], \n",
    "                    reverse(evenbracelets[right+1][tiles.currentcol, :]), [\"blue\", \"yellow\"])\n",
    "            drawGrid(8, grid, O-(0, 0.8inch), Point(-0.1inch,0.1inch), Point(0.1inch,0.1inch))\n",
    "         end\n",
    "     end\n",
    "    end 28inch 16inch"
   ]
  },
  {
   "cell_type": "markdown",
   "id": "d60cfa52",
   "metadata": {},
   "source": [
    "16 plus 16 spots, 48 total, this is going to be the tricky one!"
   ]
  },
  {
   "cell_type": "markdown",
   "id": "81695f9c",
   "metadata": {},
   "source": [
    " Swap takes the place of shift, unless glide/mirror combination produces reflection.  If odd has no symmetry, also need to use reverse of even.  Also, two bracelets which are colorchanges of each other are redundant except for one case."
   ]
  },
  {
   "cell_type": "code",
   "execution_count": null,
   "id": "92060d1a",
   "metadata": {},
   "outputs": [],
   "source": [
    "using Luxor\n",
    "@svg begin\n",
    "    left = 4\n",
    "    right = 4\n",
    "    fontsize(14)\n",
    "    origin(0,0)\n",
    "    tiles = Partition(18inch, 16inch, 2inch, 2inch)\n",
    "    for (pos, i) in tiles\n",
    "        origin()\n",
    "        translate(pos)\n",
    "              if ((tiles.currentrow >= tiles.currentcol) || \n",
    "                    (oddsymmtypes[left+1][tiles.currentrow]*evensymmtypes[right+1][tiles.currentcol] != -1))  &&\n",
    "            ((oddsymmtypes[left+1][tiles.currentrow] ==0) || (evensymmtypes[right+1][tiles.currentcol] < 1000)) &&\n",
    "            ((tiles.currentrow != 4) || (tiles.currentcol ==3))\n",
    "            setcolor(\"black\")\n",
    "            label(makeLabel(8, oddbracelets[left+1][tiles.currentrow, :], \n",
    "                    reverse(evenbracelets[right+1][tiles.currentcol, :])), \n",
    "                :N, O-(0, 0.6inch))\n",
    "            grid= fillGrid(8, oddbracelets[left+1][tiles.currentrow, :], \n",
    "                    reverse(evenbracelets[right+1][tiles.currentcol, :]), [\"blue\", \"yellow\"])\n",
    "            drawGrid(8, grid, O-(0, 0.8inch), Point(-0.1inch,0.1inch), Point(0.1inch,0.1inch))\n",
    "         end\n",
    "     end\n",
    "    end 18inch 16inch"
   ]
  },
  {
   "cell_type": "code",
   "execution_count": null,
   "id": "4cb5027c",
   "metadata": {},
   "outputs": [],
   "source": []
  }
 ],
 "metadata": {
  "kernelspec": {
   "display_name": "Julia 1.11.5",
   "language": "julia",
   "name": "julia-1.11"
  },
  "language_info": {
   "file_extension": ".jl",
   "mimetype": "application/julia",
   "name": "julia",
   "version": "1.11.5"
  }
 },
 "nbformat": 4,
 "nbformat_minor": 5
}
